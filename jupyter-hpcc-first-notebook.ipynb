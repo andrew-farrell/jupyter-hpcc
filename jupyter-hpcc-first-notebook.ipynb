{
 "cells": [
  {
   "cell_type": "markdown",
   "metadata": {},
   "source": [
    "# Jupyter iPython notebook for adventures in HPCC\n",
    "## using the hpcc magic along the way\n",
    "\n",
    "initial scriblings by Andrew Farrell"
   ]
  },
  {
   "cell_type": "code",
   "execution_count": 32,
   "metadata": {
    "collapsed": false
   },
   "outputs": [],
   "source": [
    "\n",
    "%reload_ext hpcc_magic"
   ]
  },
  {
   "cell_type": "code",
   "execution_count": 40,
   "metadata": {
    "collapsed": false,
    "scrolled": false
   },
   "outputs": [
    {
     "data": {
      "text/plain": [
       "OrderedDict([(u'Dataset',\n",
       "              OrderedDict([(u'@name', u'Result 1'),\n",
       "                           (u'Row',\n",
       "                            [OrderedDict([(u'blah', u'34')]),\n",
       "                             OrderedDict([(u'blah', u'99')])])]))])"
      ]
     },
     "execution_count": 40,
     "metadata": {},
     "output_type": "execute_result"
    }
   ],
   "source": [
    "%%hpcc test\n",
    "dataset([\n",
    "        \n",
    "        {'34'},\n",
    "        {'99'}\n",
    "    ],{string blah;})"
   ]
  },
  {
   "cell_type": "code",
   "execution_count": 41,
   "metadata": {
    "collapsed": false
   },
   "outputs": [
    {
     "name": "stdout",
     "output_type": "stream",
     "text": [
      "[OrderedDict([(u'blah', u'34')]), OrderedDict([(u'blah', u'99')])]\n"
     ]
    }
   ],
   "source": [
    "hpcc_result = _\n",
    "#hpcc_result??\n",
    "\n",
    "print hpcc_result[u'Dataset']['Row']\n",
    "from pprint import pprint\n",
    "\n",
    "#pprint(hpcc_result)"
   ]
  },
  {
   "cell_type": "code",
   "execution_count": 42,
   "metadata": {
    "collapsed": false
   },
   "outputs": [
    {
     "name": "stdout",
     "output_type": "stream",
     "text": [
      "34\n"
     ]
    }
   ],
   "source": [
    "for row in hpcc_result:\n",
    "    for blah in row:\n",
    "        print blah.text"
   ]
  },
  {
   "cell_type": "code",
   "execution_count": 31,
   "metadata": {
    "collapsed": false
   },
   "outputs": [
    {
     "name": "stdout",
     "output_type": "stream",
     "text": [
      "Collecting xmltodict\n",
      "  Downloading xmltodict-0.10.2.tar.gz\n",
      "Building wheels for collected packages: xmltodict\n",
      "  Running setup.py bdist_wheel for xmltodict: started\n",
      "  Running setup.py bdist_wheel for xmltodict: finished with status 'done'\n",
      "  Stored in directory: C:\\Users\\andre_000\\AppData\\Local\\pip\\Cache\\wheels\\2a\\dc\\70\\da8958d7089d994c8614bc38210f64855f09615e85707bf615\n",
      "Successfully built xmltodict\n",
      "Installing collected packages: xmltodict\n",
      "Successfully installed xmltodict-0.10.2\n"
     ]
    },
    {
     "name": "stderr",
     "output_type": "stream",
     "text": [
      "You are using pip version 8.1.2, however version 9.0.1 is available.\n",
      "You should consider upgrading via the 'python -m pip install --upgrade pip' command.\n"
     ]
    }
   ],
   "source": [
    "!pip install xmltodict"
   ]
  }
 ],
 "metadata": {
  "anaconda-cloud": {},
  "kernelspec": {
   "display_name": "Python 2",
   "language": "python",
   "name": "python2"
  },
  "language_info": {
   "codemirror_mode": {
    "name": "ipython",
    "version": 2
   },
   "file_extension": ".py",
   "mimetype": "text/x-python",
   "name": "python",
   "nbconvert_exporter": "python",
   "pygments_lexer": "ipython2",
   "version": "2.7.12"
  }
 },
 "nbformat": 4,
 "nbformat_minor": 1
}
