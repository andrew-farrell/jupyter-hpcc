{
 "cells": [
  {
   "cell_type": "markdown",
   "metadata": {},
   "source": [
    "# Jupyter iPython notebook for adventures in HPCC\n",
    "## using the hpcc magic along the way\n",
    "\n",
    "initial scriblings by Andrew Farrell"
   ]
  },
  {
   "cell_type": "code",
   "execution_count": 17,
   "metadata": {
    "collapsed": false
   },
   "outputs": [],
   "source": [
    "import numpy as np\n",
    "%reload_ext hpcc_magic"
   ]
  },
  {
   "cell_type": "code",
   "execution_count": 18,
   "metadata": {
    "collapsed": false,
    "scrolled": false
   },
   "outputs": [
    {
     "data": {
      "text/plain": [
       "array([ nan,  nan])"
      ]
     },
     "execution_count": 18,
     "metadata": {},
     "output_type": "execute_result"
    }
   ],
   "source": [
    "%%hpcc test\n",
    "dataset([\n",
    "        {'34'}\n",
    "    ],{string blah;})"
   ]
  },
  {
   "cell_type": "code",
   "execution_count": 19,
   "metadata": {
    "collapsed": true
   },
   "outputs": [],
   "source": [
    "hpcc_result = _"
   ]
  },
  {
   "cell_type": "code",
   "execution_count": 20,
   "metadata": {
    "collapsed": false
   },
   "outputs": [
    {
     "data": {
      "text/plain": [
       "array([ nan,  nan])"
      ]
     },
     "execution_count": 20,
     "metadata": {},
     "output_type": "execute_result"
    }
   ],
   "source": [
    "hpcc_result"
   ]
  },
  {
   "cell_type": "code",
   "execution_count": 20,
   "metadata": {
    "collapsed": false
   },
   "outputs": [
    {
     "name": "stdout",
     "output_type": "stream",
     "text": [
      "eclplus action=[list|view|dump|delete|abort|query|graph]\n",
      "\t{owner=<userid>| wuid=<wuid>}\n",
      "\tuser=<username>\n",
      "\tpassword=<password>\n",
      "\tcluster=<cluster>\n",
      "\tserver=<server | server:port | http://server:port | https://server:port>\n",
      "\ttimeout=<query_timeout_in_seconds_or_0_for_asynchronous>\n",
      "\t{ecl=<ecl_query> | @inputfile }\n",
      "\t{file=logicalName | !logicalName[startrow,endrow]}\n",
      "\tformat=[default|xml|csv|csvh|runecl|bin(ary)]\n",
      "\toutput=<outputfile>\n",
      "\tjobname=<name>\n",
      "\tpagesize=<pagesize>\n",
      "\t{-fdebugparam1=debugvalue1 -fdebugparam2=debugvalue2 ... }\n",
      "\t{-Ipath -Lpath -g -E as eclcc}\n",
      "\t{_applicationparam1=applicationvalue1 _applicationparam2=applicationvalue2 ... }\n",
      "\t{/storedname1=simplevalue1 /storedname2=simplevalue2 ... }\n",
      "\t{stored=<storedname>...</storedname>} stored=<storedname2>...</storedname2>} ...\n",
      "\t{query=full-query-xml | query=@filename}\n"
     ]
    }
   ],
   "source": [
    "!eclplus"
   ]
  }
 ],
 "metadata": {
  "anaconda-cloud": {},
  "kernelspec": {
   "display_name": "Python 2",
   "language": "python",
   "name": "python2"
  },
  "language_info": {
   "codemirror_mode": {
    "name": "ipython",
    "version": 2
   },
   "file_extension": ".py",
   "mimetype": "text/x-python",
   "name": "python",
   "nbconvert_exporter": "python",
   "pygments_lexer": "ipython2",
   "version": "2.7.12"
  }
 },
 "nbformat": 4,
 "nbformat_minor": 1
}
