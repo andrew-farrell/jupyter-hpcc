{
 "cells": [
  {
   "cell_type": "markdown",
   "metadata": {},
   "source": [
    "# Jupyter iPython notebook for adventures in HPCC\n",
    "## using the hpcc magic along the way\n",
    "\n",
    "initial scriblings by Andrew Farrell"
   ]
  },
  {
   "cell_type": "markdown",
   "metadata": {},
   "source": [
    "## Load the HPCC Magic"
   ]
  },
  {
   "cell_type": "code",
   "execution_count": 34,
   "metadata": {
    "collapsed": false
   },
   "outputs": [],
   "source": [
    "\n",
    "%reload_ext hpcc_magic"
   ]
  },
  {
   "cell_type": "markdown",
   "metadata": {},
   "source": [
    "## Prompt for Password\n",
    "let's not store the password in the notebook"
   ]
  },
  {
   "cell_type": "code",
   "execution_count": 2,
   "metadata": {
    "collapsed": false
   },
   "outputs": [
    {
     "name": "stdout",
     "output_type": "stream",
     "text": [
      "········\n"
     ]
    }
   ],
   "source": [
    "import getpass\n",
    "password = getpass.getpass()"
   ]
  },
  {
   "cell_type": "markdown",
   "metadata": {},
   "source": [
    "## Experiment with binding vars"
   ]
  },
  {
   "cell_type": "code",
   "execution_count": 35,
   "metadata": {
    "collapsed": false
   },
   "outputs": [],
   "source": [
    "val='Z'\n",
    "\n",
    "my_set = str([1,4,6,7])"
   ]
  },
  {
   "cell_type": "markdown",
   "metadata": {},
   "source": [
    "## Run the ECL"
   ]
  },
  {
   "cell_type": "code",
   "execution_count": 36,
   "metadata": {
    "collapsed": false,
    "scrolled": false
   },
   "outputs": [
    {
     "data": {
      "text/plain": [
       "\"<Dataset name='my_result1'>\\n <Row><blah>A</blah></Row>\\n <Row><blah>Z</blah></Row>\\n</Dataset>\\n<Dataset name='my_result2'>\\n <Row><res>A1</res></Row>\\n <Row><res>A4</res></Row>\\n <Row><res>A6</res></Row>\\n <Row><res>A7</res></Row>\\n <Row><res>Z1</res></Row>\\n <Row><res>Z4</res></Row>\\n <Row><res>Z6</res></Row>\\n <Row><res>Z7</res></Row>\\n</Dataset>\\n\""
      ]
     },
     "execution_count": 36,
     "metadata": {},
     "output_type": "execute_result"
    }
   ],
   "source": [
    "%%hpcc test user=hpccdemo password=%password% server=http://192.168.23.129:8010 cluster=thor\n",
    "        \n",
    "my_result1 := dataset([{'A'},{'%val%'}],{string blah;});\n",
    "    \n",
    "set of integer mySet := %my_set%;\n",
    "\n",
    "setAsDset := dataset(mySet,{integer n;});\n",
    "    \n",
    "my_result2 := join(my_result1,setAsDset,true,transform({string res},self.res:=left.blah+right.n),ALL);\n",
    "    \n",
    "output(my_result1,named('my_result1'));\n",
    "    \n",
    "output(my_result2,named('my_result2'));"
   ]
  },
  {
   "cell_type": "markdown",
   "metadata": {},
   "source": [
    "## Use Result"
   ]
  },
  {
   "cell_type": "code",
   "execution_count": 37,
   "metadata": {
    "collapsed": false
   },
   "outputs": [
    {
     "name": "stdout",
     "output_type": "stream",
     "text": [
      "<Dataset name='my_result1'>\n",
      " <Row><blah>A</blah></Row>\n",
      " <Row><blah>Z</blah></Row>\n",
      "</Dataset>\n",
      "<Dataset name='my_result2'>\n",
      " <Row><res>A1</res></Row>\n",
      " <Row><res>A4</res></Row>\n",
      " <Row><res>A6</res></Row>\n",
      " <Row><res>A7</res></Row>\n",
      " <Row><res>Z1</res></Row>\n",
      " <Row><res>Z4</res></Row>\n",
      " <Row><res>Z6</res></Row>\n",
      " <Row><res>Z7</res></Row>\n",
      "</Dataset>\n",
      "\n"
     ]
    }
   ],
   "source": [
    "print _"
   ]
  }
 ],
 "metadata": {
  "anaconda-cloud": {},
  "kernelspec": {
   "display_name": "Python 2",
   "language": "python",
   "name": "python2"
  },
  "language_info": {
   "codemirror_mode": {
    "name": "ipython",
    "version": 2
   },
   "file_extension": ".py",
   "mimetype": "text/x-python",
   "name": "python",
   "nbconvert_exporter": "python",
   "pygments_lexer": "ipython2",
   "version": "2.7.12"
  }
 },
 "nbformat": 4,
 "nbformat_minor": 1
}
